{
 "cells": [
  {
   "cell_type": "markdown",
   "metadata": {},
   "source": [
    "# Predicting the duration of a trip of bicycle rental for UrbanBike\n",
    "\n",
    "Aim:\n",
    "- Predict the capacity in the next 30-90 min for showing it to customers on UrbanBike's application\n",
    "\n",
    "Method:\n",
    "- Predict the duration of the bike trips from the time when a bike is picked up from a docking station to the time when it is\n",
    "returned to a docking station\n",
    "\n",
    "Data we have from UrbanBike: \n",
    "- Bike docking stations\n",
    "- Historical trips\n",
    "- Weather data\n",
    "\n",
    "Tasks:\n",
    "- Perform data exploration\n",
    "- Develop and evaluate a machine learning model to predict the duration of a trip\n",
    "- Prepare a short presentation (15 mins max) outlining the modelling approach, results and any further steps you would propose to the client"
   ]
  },
  {
   "cell_type": "markdown",
   "metadata": {},
   "source": [
    "## Data Exploration"
   ]
  },
  {
   "cell_type": "code",
   "execution_count": 1,
   "metadata": {},
   "outputs": [],
   "source": [
    "import pandas as pd\n",
    "import matplotlib.pyplot as plt\n",
    "from datetime import datetime\n",
    "from geopy.distance import distance\n",
    "import numpy as np\n",
    "import seaborn as sns\n",
    "from scipy import stats\n",
    "import swifter"
   ]
  },
  {
   "cell_type": "code",
   "execution_count": 2,
   "metadata": {},
   "outputs": [],
   "source": [
    "from sklearn.linear_model import LinearRegression\n",
    "from sklearn.model_selection import train_test_split\n",
    "from sklearn import metrics\n",
    "from sklearn.ensemble import RandomForestRegressor"
   ]
  },
  {
   "cell_type": "code",
   "execution_count": 7,
   "metadata": {},
   "outputs": [],
   "source": [
    "path = 'data/'"
   ]
  },
  {
   "cell_type": "code",
   "execution_count": 8,
   "metadata": {},
   "outputs": [],
   "source": [
    "df_station = pd.read_csv(path + 'hubway_stations.csv')\n",
    "df_trips = pd.read_csv(path + 'hubway_trips.csv')\n",
    "df_weather = pd.read_csv(path + 'weather.csv')"
   ]
  },
  {
   "cell_type": "markdown",
   "metadata": {},
   "source": [
    "### Exploring trip data"
   ]
  },
  {
   "cell_type": "code",
   "execution_count": 9,
   "metadata": {},
   "outputs": [
    {
     "data": {
      "text/html": [
       "<div>\n",
       "<style scoped>\n",
       "    .dataframe tbody tr th:only-of-type {\n",
       "        vertical-align: middle;\n",
       "    }\n",
       "\n",
       "    .dataframe tbody tr th {\n",
       "        vertical-align: top;\n",
       "    }\n",
       "\n",
       "    .dataframe thead th {\n",
       "        text-align: right;\n",
       "    }\n",
       "</style>\n",
       "<table border=\"1\" class=\"dataframe\">\n",
       "  <thead>\n",
       "    <tr style=\"text-align: right;\">\n",
       "      <th></th>\n",
       "      <th>seq_id</th>\n",
       "      <th>hubway_id</th>\n",
       "      <th>status</th>\n",
       "      <th>duration</th>\n",
       "      <th>start_date</th>\n",
       "      <th>strt_statn</th>\n",
       "      <th>end_date</th>\n",
       "      <th>end_statn</th>\n",
       "      <th>bike_nr</th>\n",
       "      <th>subsc_type</th>\n",
       "      <th>zip_code</th>\n",
       "      <th>birth_date</th>\n",
       "      <th>gender</th>\n",
       "    </tr>\n",
       "  </thead>\n",
       "  <tbody>\n",
       "    <tr>\n",
       "      <th>317347</th>\n",
       "      <td>317348</td>\n",
       "      <td>360655</td>\n",
       "      <td>Closed</td>\n",
       "      <td>905</td>\n",
       "      <td>7/4/2012 14:32:00</td>\n",
       "      <td>42.0</td>\n",
       "      <td>7/4/2012 14:47:00</td>\n",
       "      <td>39.0</td>\n",
       "      <td>B00480</td>\n",
       "      <td>Registered</td>\n",
       "      <td>'02118</td>\n",
       "      <td>1985.0</td>\n",
       "      <td>Female</td>\n",
       "    </tr>\n",
       "    <tr>\n",
       "      <th>1004796</th>\n",
       "      <td>1004797</td>\n",
       "      <td>1134287</td>\n",
       "      <td>Closed</td>\n",
       "      <td>120</td>\n",
       "      <td>7/14/2013 22:51:00</td>\n",
       "      <td>68.0</td>\n",
       "      <td>7/14/2013 22:53:00</td>\n",
       "      <td>75.0</td>\n",
       "      <td>B01462</td>\n",
       "      <td>Registered</td>\n",
       "      <td>'02115</td>\n",
       "      <td>NaN</td>\n",
       "      <td>Male</td>\n",
       "    </tr>\n",
       "    <tr>\n",
       "      <th>1416853</th>\n",
       "      <td>1416854</td>\n",
       "      <td>1576387</td>\n",
       "      <td>Closed</td>\n",
       "      <td>1020</td>\n",
       "      <td>10/11/2013 15:03:00</td>\n",
       "      <td>58.0</td>\n",
       "      <td>10/11/2013 15:20:00</td>\n",
       "      <td>52.0</td>\n",
       "      <td>B00205</td>\n",
       "      <td>Casual</td>\n",
       "      <td>'02215</td>\n",
       "      <td>NaN</td>\n",
       "      <td>NaN</td>\n",
       "    </tr>\n",
       "    <tr>\n",
       "      <th>335686</th>\n",
       "      <td>335687</td>\n",
       "      <td>380878</td>\n",
       "      <td>Closed</td>\n",
       "      <td>350</td>\n",
       "      <td>7/12/2012 07:50:00</td>\n",
       "      <td>26.0</td>\n",
       "      <td>7/12/2012 07:56:00</td>\n",
       "      <td>50.0</td>\n",
       "      <td>B00474</td>\n",
       "      <td>Registered</td>\n",
       "      <td>'02118</td>\n",
       "      <td>1975.0</td>\n",
       "      <td>Male</td>\n",
       "    </tr>\n",
       "    <tr>\n",
       "      <th>330414</th>\n",
       "      <td>330415</td>\n",
       "      <td>375163</td>\n",
       "      <td>Closed</td>\n",
       "      <td>425</td>\n",
       "      <td>7/10/2012 06:48:00</td>\n",
       "      <td>38.0</td>\n",
       "      <td>7/10/2012 06:55:00</td>\n",
       "      <td>64.0</td>\n",
       "      <td>B00023</td>\n",
       "      <td>Registered</td>\n",
       "      <td>'02478</td>\n",
       "      <td>1990.0</td>\n",
       "      <td>Male</td>\n",
       "    </tr>\n",
       "  </tbody>\n",
       "</table>\n",
       "</div>"
      ],
      "text/plain": [
       "          seq_id  hubway_id  status  duration           start_date  \\\n",
       "317347    317348     360655  Closed       905    7/4/2012 14:32:00   \n",
       "1004796  1004797    1134287  Closed       120   7/14/2013 22:51:00   \n",
       "1416853  1416854    1576387  Closed      1020  10/11/2013 15:03:00   \n",
       "335686    335687     380878  Closed       350   7/12/2012 07:50:00   \n",
       "330414    330415     375163  Closed       425   7/10/2012 06:48:00   \n",
       "\n",
       "         strt_statn             end_date  end_statn bike_nr  subsc_type  \\\n",
       "317347         42.0    7/4/2012 14:47:00       39.0  B00480  Registered   \n",
       "1004796        68.0   7/14/2013 22:53:00       75.0  B01462  Registered   \n",
       "1416853        58.0  10/11/2013 15:20:00       52.0  B00205      Casual   \n",
       "335686         26.0   7/12/2012 07:56:00       50.0  B00474  Registered   \n",
       "330414         38.0   7/10/2012 06:55:00       64.0  B00023  Registered   \n",
       "\n",
       "        zip_code  birth_date  gender  \n",
       "317347    '02118      1985.0  Female  \n",
       "1004796   '02115         NaN    Male  \n",
       "1416853   '02215         NaN     NaN  \n",
       "335686    '02118      1975.0    Male  \n",
       "330414    '02478      1990.0    Male  "
      ]
     },
     "execution_count": 9,
     "metadata": {},
     "output_type": "execute_result"
    }
   ],
   "source": [
    "df_trips.sample(5,random_state=42)"
   ]
  },
  {
   "cell_type": "code",
   "execution_count": 10,
   "metadata": {},
   "outputs": [
    {
     "data": {
      "text/plain": [
       "array(['Closed'], dtype=object)"
      ]
     },
     "execution_count": 10,
     "metadata": {},
     "output_type": "execute_result"
    }
   ],
   "source": [
    "df_trips['status'].unique()"
   ]
  },
  {
   "cell_type": "code",
   "execution_count": 11,
   "metadata": {},
   "outputs": [],
   "source": [
    "df_trips = df_trips.drop(columns=['status'])"
   ]
  },
  {
   "cell_type": "code",
   "execution_count": 12,
   "metadata": {},
   "outputs": [],
   "source": [
    "df_trips = df_trips.query('duration > 0')"
   ]
  },
  {
   "cell_type": "code",
   "execution_count": 13,
   "metadata": {},
   "outputs": [
    {
     "data": {
      "text/plain": [
       "<AxesSubplot:>"
      ]
     },
     "execution_count": 13,
     "metadata": {},
     "output_type": "execute_result"
    },
    {
     "data": {
      "image/png": "[encoded data removed]",
      "text/plain": [
       "<Figure size 432x288 with 1 Axes>"
      ]
     },
     "metadata": {
      "needs_background": "light"
     },
     "output_type": "display_data"
    }
   ],
   "source": [
    "df_trips.duration.plot()"
   ]
  },
  {
   "cell_type": "code",
   "execution_count": 14,
   "metadata": {},
   "outputs": [
    {
     "name": "stderr",
     "output_type": "stream",
     "text": [
      "Pandas Apply: 100%|██████████| 1574587/1574587 [00:14<00:00, 112087.96it/s]\n",
      "Pandas Apply: 100%|██████████| 1574587/1574587 [00:14<00:00, 112244.98it/s]\n"
     ]
    }
   ],
   "source": [
    "def format_trip_date(string):\n",
    "    return datetime.strptime(string,'%m/%d/%Y %H:%M:%S')\n",
    "df_trips['start_date'] = df_trips['start_date'].swifter.apply(format_trip_date)\n",
    "df_trips['end_date'] = df_trips['end_date'].swifter.apply(format_trip_date)"
   ]
  },
  {
   "cell_type": "code",
   "execution_count": 15,
   "metadata": {},
   "outputs": [
    {
     "name": "stderr",
     "output_type": "stream",
     "text": [
      "Dask Apply: 100%|██████████| 32/32 [00:02<00:00, 12.27it/s]\n",
      "Dask Apply: 100%|██████████| 32/32 [00:02<00:00, 12.31it/s]\n",
      "Dask Apply: 100%|██████████| 32/32 [00:02<00:00, 12.18it/s]\n",
      "Dask Apply: 100%|██████████| 32/32 [00:02<00:00, 11.28it/s]\n"
     ]
    }
   ],
   "source": [
    "df_trips['month_start'] = df_trips.start_date.swifter.apply(lambda x: x.month)\n",
    "df_trips['day_start'] = df_trips.start_date.swifter.apply(lambda x: x.day)\n",
    "df_trips['dayOfWeek_start'] = df_trips.start_date.swifter.apply(lambda x:x.weekday()+1)  # set Monday to 1\n",
    "df_trips['hour_start'] = df_trips.start_date.swifter.apply(lambda x:x.hour)"
   ]
  },
  {
   "cell_type": "code",
   "execution_count": 16,
   "metadata": {},
   "outputs": [
    {
     "name": "stderr",
     "output_type": "stream",
     "text": [
      "Dask Apply: 100%|██████████| 32/32 [00:02<00:00, 12.65it/s]\n",
      "Dask Apply: 100%|██████████| 32/32 [00:02<00:00, 12.82it/s]\n",
      "Dask Apply: 100%|██████████| 32/32 [00:02<00:00, 13.15it/s]\n",
      "Dask Apply: 100%|██████████| 32/32 [00:02<00:00, 12.96it/s]\n"
     ]
    }
   ],
   "source": [
    "df_trips['month_end'] = df_trips.end_date.swifter.apply(lambda x: x.month)\n",
    "df_trips['day_end'] = df_trips.end_date.swifter.apply(lambda x: x.day)\n",
    "df_trips['dayOfWeek_end'] = df_trips.end_date.swifter.apply(lambda x:x.weekday()+1)  # set Monday to 1\n",
    "df_trips['hour_end'] = df_trips.end_date.swifter.apply(lambda x:x.hour)"
   ]
  },
  {
   "cell_type": "code",
   "execution_count": 17,
   "metadata": {},
   "outputs": [
    {
     "data": {
      "text/plain": [
       "<AxesSubplot:xlabel='duration'>"
      ]
     },
     "execution_count": 17,
     "metadata": {},
     "output_type": "execute_result"
    },
    {
     "data": {
      "image/png": "[encoded data removed]",
      "text/plain": [
       "<Figure size 432x288 with 1 Axes>"
      ]
     },
     "metadata": {
      "needs_background": "light"
     },
     "output_type": "display_data"
    }
   ],
   "source": [
    "sns.boxplot(x=df_trips.duration)"
   ]
  },
  {
   "cell_type": "code",
   "execution_count": 18,
   "metadata": {},
   "outputs": [
    {
     "data": {
      "text/plain": [
       "1573820"
      ]
     },
     "execution_count": 18,
     "metadata": {},
     "output_type": "execute_result"
    }
   ],
   "source": [
    "z = np.abs(stats.zscore(df_trips.duration))\n",
    "df_trips_cut = df_trips[(z < 3)]\n",
    "df_trips_cut.shape[0]"
   ]
  },
  {
   "cell_type": "code",
   "execution_count": 19,
   "metadata": {},
   "outputs": [
    {
     "data": {
      "text/plain": [
       "5807         80970\n",
       "54918        80970\n",
       "939282       81060\n",
       "147522       81079\n",
       "5119         81087\n",
       "            ...   \n",
       "28396      9260227\n",
       "27081      9340553\n",
       "14522     10196477\n",
       "8859      10659471\n",
       "78677     11994458\n",
       "Name: duration, Length: 767, dtype: int64"
      ]
     },
     "execution_count": 19,
     "metadata": {},
     "output_type": "execute_result"
    }
   ],
   "source": [
    "df_trips.duration[(z > 3)].sort_values()"
   ]
  },
  {
   "cell_type": "code",
   "execution_count": 20,
   "metadata": {},
   "outputs": [
    {
     "data": {
      "text/plain": [
       "<AxesSubplot:xlabel='duration'>"
      ]
     },
     "execution_count": 20,
     "metadata": {},
     "output_type": "execute_result"
    },
    {
     "data": {
      "image/png": "[encoded data removed]",
      "text/plain": [
       "<Figure size 432x288 with 1 Axes>"
      ]
     },
     "metadata": {
      "needs_background": "light"
     },
     "output_type": "display_data"
    }
   ],
   "source": [
    "sns.boxplot(x=df_trips_cut.duration)"
   ]
  },
  {
   "cell_type": "code",
   "execution_count": 21,
   "metadata": {},
   "outputs": [
    {
     "name": "stdout",
     "output_type": "stream",
     "text": [
      "-78514.0739293213 80921.77247122467 1203.8492709516845 26572.64106675766\n"
     ]
    },
    {
     "data": {
      "text/plain": [
       "1573820"
      ]
     },
     "execution_count": 21,
     "metadata": {},
     "output_type": "execute_result"
    }
   ],
   "source": [
    "data_mean, data_std = np.mean(df_trips.duration), np.std(df_trips.duration)\n",
    "cut_off = data_std * 3\n",
    "lower, upper = data_mean - cut_off, data_mean + cut_off\n",
    "print(lower, upper,data_mean, data_std)\n",
    "df_trips_cut_SD = df_trips.query('@lower < duration < @upper')\n",
    "df_trips_cut_SD.shape[0]"
   ]
  },
  {
   "cell_type": "code",
   "execution_count": 22,
   "metadata": {},
   "outputs": [
    {
     "data": {
      "text/plain": [
       "<AxesSubplot:xlabel='duration'>"
      ]
     },
     "execution_count": 22,
     "metadata": {},
     "output_type": "execute_result"
    },
    {
     "data": {
      "image/png": "[encoded data removed]",
      "text/plain": [
       "<Figure size 432x288 with 1 Axes>"
      ]
     },
     "metadata": {
      "needs_background": "light"
     },
     "output_type": "display_data"
    }
   ],
   "source": [
    "sns.boxplot(x=df_trips_cut_SD.duration)"
   ]
  },
  {
   "cell_type": "code",
   "execution_count": 23,
   "metadata": {},
   "outputs": [
    {
     "data": {
      "text/plain": [
       "1470300"
      ]
     },
     "execution_count": 23,
     "metadata": {},
     "output_type": "execute_result"
    }
   ],
   "source": [
    "Q1 = df_trips.duration.quantile(0.25)\n",
    "Q3 = df_trips.duration.quantile(0.75)\n",
    "IQR = Q3 - Q1\n",
    "df_trips_cut_IQR = df_trips.query('@Q1 - 1.5*@IQR < duration < @Q3 + 1.5*@IQR')\n",
    "df_trips_cut_IQR.shape[0]"
   ]
  },
  {
   "cell_type": "code",
   "execution_count": 24,
   "metadata": {},
   "outputs": [
    {
     "data": {
      "text/plain": [
       "<AxesSubplot:xlabel='duration'>"
      ]
     },
     "execution_count": 24,
     "metadata": {},
     "output_type": "execute_result"
    },
    {
     "data": {
      "image/png": "[encoded data removed]",
      "text/plain": [
       "<Figure size 432x288 with 1 Axes>"
      ]
     },
     "metadata": {
      "needs_background": "light"
     },
     "output_type": "display_data"
    }
   ],
   "source": [
    "sns.boxplot(x=df_trips_cut_IQR.duration)"
   ]
  },
  {
   "cell_type": "code",
   "execution_count": 25,
   "metadata": {},
   "outputs": [
    {
     "data": {
      "text/plain": [
       "<AxesSubplot:xlabel='hour_start'>"
      ]
     },
     "execution_count": 25,
     "metadata": {},
     "output_type": "execute_result"
    },
    {
     "data": {
      "image/png": "[encoded data removed]",
      "text/plain": [
       "<Figure size 864x648 with 4 Axes>"
      ]
     },
     "metadata": {
      "needs_background": "light"
     },
     "output_type": "display_data"
    }
   ],
   "source": [
    "fig, axs = plt.subplots(nrows=2, ncols=2, figsize=(12,9))\n",
    "df_trips_cut_IQR.groupby('month_start').mean()['duration'].plot(ax=axs[0][0])\n",
    "df_trips_cut_IQR.groupby('day_start').mean()['duration'].plot(ax=axs[0][1])\n",
    "df_trips_cut_IQR.groupby('dayOfWeek_start').mean()['duration'].plot(ax=axs[1][0])\n",
    "df_trips_cut_IQR.groupby('hour_start').mean()['duration'].plot(ax=axs[1][1])"
   ]
  },
  {
   "cell_type": "code",
   "execution_count": 26,
   "metadata": {},
   "outputs": [
    {
     "data": {
      "text/plain": [
       "<AxesSubplot:xlabel='hour_start'>"
      ]
     },
     "execution_count": 26,
     "metadata": {},
     "output_type": "execute_result"
    },
    {
     "data": {
      "image/png": "[encoded data removed]",
      "text/plain": [
       "<Figure size 864x648 with 4 Axes>"
      ]
     },
     "metadata": {
      "needs_background": "light"
     },
     "output_type": "display_data"
    }
   ],
   "source": [
    "fig, axs = plt.subplots(nrows=2, ncols=2, figsize=(12,9))\n",
    "df_trips_cut.groupby('month_start').mean()['duration'].plot(ax=axs[0][0])\n",
    "df_trips_cut.groupby('day_start').mean()['duration'].plot(ax=axs[0][1])\n",
    "df_trips_cut.groupby('dayOfWeek_start').mean()['duration'].plot(ax=axs[1][0])\n",
    "df_trips_cut.groupby('hour_start').mean()['duration'].plot(ax=axs[1][1])"
   ]
  },
  {
   "cell_type": "code",
   "execution_count": 27,
   "metadata": {},
   "outputs": [
    {
     "data": {
      "text/plain": [
       "<AxesSubplot:xlabel='hour_end'>"
      ]
     },
     "execution_count": 27,
     "metadata": {},
     "output_type": "execute_result"
    },
    {
     "data": {
      "image/png": "[encoded data removed]",
      "text/plain": [
       "<Figure size 864x648 with 4 Axes>"
      ]
     },
     "metadata": {
      "needs_background": "light"
     },
     "output_type": "display_data"
    }
   ],
   "source": [
    "fig, axs = plt.subplots(nrows=2, ncols=2, figsize=(12,9))\n",
    "df_trips.groupby('month_end').mean()['duration'].plot(ax=axs[0][0])\n",
    "df_trips.groupby('day_end').mean()['duration'].plot(ax=axs[0][1])\n",
    "df_trips.groupby('dayOfWeek_end').mean()['duration'].plot(ax=axs[1][0])\n",
    "df_trips.groupby('hour_end').mean()['duration'].plot(ax=axs[1][1])"
   ]
  },
  {
   "cell_type": "code",
   "execution_count": 28,
   "metadata": {},
   "outputs": [
    {
     "data": {
      "text/plain": [
       "(Timestamp('2011-07-28 10:12:00'), Timestamp('2013-11-30 23:39:00'))"
      ]
     },
     "execution_count": 28,
     "metadata": {},
     "output_type": "execute_result"
    }
   ],
   "source": [
    "df_trips.start_date.min(),df_trips.start_date.max()"
   ]
  },
  {
   "cell_type": "code",
   "execution_count": 29,
   "metadata": {},
   "outputs": [
    {
     "data": {
      "text/plain": [
       "bike_nr\n",
       "B00490    2136\n",
       "B00268    2118\n",
       "B00548    2109\n",
       "B00559    2086\n",
       "B00563    2076\n",
       "          ... \n",
       "T01129      49\n",
       "B00218      35\n",
       "B00137      31\n",
       "B00542      28\n",
       "T01064      10\n",
       "Length: 1163, dtype: int64"
      ]
     },
     "execution_count": 29,
     "metadata": {},
     "output_type": "execute_result"
    }
   ],
   "source": [
    "df_trips.value_counts('bike_nr')"
   ]
  },
  {
   "cell_type": "code",
   "execution_count": 30,
   "metadata": {},
   "outputs": [],
   "source": [
    "df_trips = df_trips.drop(columns=['seq_id','hubway_id'])"
   ]
  },
  {
   "cell_type": "code",
   "execution_count": 31,
   "metadata": {},
   "outputs": [
    {
     "data": {
      "text/plain": [
       "duration                 0\n",
       "start_date               0\n",
       "strt_statn              14\n",
       "end_date                 0\n",
       "end_statn               45\n",
       "bike_nr                466\n",
       "subsc_type               0\n",
       "zip_code            472712\n",
       "birth_date         1223968\n",
       "gender              472572\n",
       "month_start              0\n",
       "day_start                0\n",
       "dayOfWeek_start          0\n",
       "hour_start               0\n",
       "month_end                0\n",
       "day_end                  0\n",
       "dayOfWeek_end            0\n",
       "hour_end                 0\n",
       "dtype: int64"
      ]
     },
     "execution_count": 31,
     "metadata": {},
     "output_type": "execute_result"
    }
   ],
   "source": [
    "df_trips.isna().sum()"
   ]
  },
  {
   "cell_type": "code",
   "execution_count": 32,
   "metadata": {},
   "outputs": [
    {
     "data": {
      "text/html": [
       "<div>\n",
       "<style scoped>\n",
       "    .dataframe tbody tr th:only-of-type {\n",
       "        vertical-align: middle;\n",
       "    }\n",
       "\n",
       "    .dataframe tbody tr th {\n",
       "        vertical-align: top;\n",
       "    }\n",
       "\n",
       "    .dataframe thead th {\n",
       "        text-align: right;\n",
       "    }\n",
       "</style>\n",
       "<table border=\"1\" class=\"dataframe\">\n",
       "  <thead>\n",
       "    <tr style=\"text-align: right;\">\n",
       "      <th></th>\n",
       "      <th>duration</th>\n",
       "      <th>strt_statn</th>\n",
       "      <th>end_statn</th>\n",
       "      <th>birth_date</th>\n",
       "      <th>month_start</th>\n",
       "      <th>day_start</th>\n",
       "      <th>dayOfWeek_start</th>\n",
       "      <th>hour_start</th>\n",
       "      <th>month_end</th>\n",
       "      <th>day_end</th>\n",
       "      <th>dayOfWeek_end</th>\n",
       "      <th>hour_end</th>\n",
       "    </tr>\n",
       "  </thead>\n",
       "  <tbody>\n",
       "    <tr>\n",
       "      <th>duration</th>\n",
       "      <td>1.000000</td>\n",
       "      <td>-0.004821</td>\n",
       "      <td>-0.005850</td>\n",
       "      <td>-0.002784</td>\n",
       "      <td>-0.000395</td>\n",
       "      <td>0.000197</td>\n",
       "      <td>0.007379</td>\n",
       "      <td>0.000514</td>\n",
       "      <td>0.003143</td>\n",
       "      <td>-0.002254</td>\n",
       "      <td>0.006460</td>\n",
       "      <td>-0.004913</td>\n",
       "    </tr>\n",
       "    <tr>\n",
       "      <th>strt_statn</th>\n",
       "      <td>-0.004821</td>\n",
       "      <td>1.000000</td>\n",
       "      <td>0.338162</td>\n",
       "      <td>0.036458</td>\n",
       "      <td>0.097581</td>\n",
       "      <td>-0.006696</td>\n",
       "      <td>0.005404</td>\n",
       "      <td>-0.016105</td>\n",
       "      <td>0.097545</td>\n",
       "      <td>-0.006609</td>\n",
       "      <td>0.005566</td>\n",
       "      <td>-0.016198</td>\n",
       "    </tr>\n",
       "    <tr>\n",
       "      <th>end_statn</th>\n",
       "      <td>-0.005850</td>\n",
       "      <td>0.338162</td>\n",
       "      <td>1.000000</td>\n",
       "      <td>0.030072</td>\n",
       "      <td>0.095527</td>\n",
       "      <td>-0.007348</td>\n",
       "      <td>0.003785</td>\n",
       "      <td>0.028354</td>\n",
       "      <td>0.095517</td>\n",
       "      <td>-0.007348</td>\n",
       "      <td>0.003901</td>\n",
       "      <td>0.027000</td>\n",
       "    </tr>\n",
       "    <tr>\n",
       "      <th>birth_date</th>\n",
       "      <td>-0.002784</td>\n",
       "      <td>0.036458</td>\n",
       "      <td>0.030072</td>\n",
       "      <td>1.000000</td>\n",
       "      <td>-0.000664</td>\n",
       "      <td>-0.003771</td>\n",
       "      <td>0.081209</td>\n",
       "      <td>0.098961</td>\n",
       "      <td>-0.000641</td>\n",
       "      <td>-0.003846</td>\n",
       "      <td>0.081202</td>\n",
       "      <td>0.090966</td>\n",
       "    </tr>\n",
       "    <tr>\n",
       "      <th>month_start</th>\n",
       "      <td>-0.000395</td>\n",
       "      <td>0.097581</td>\n",
       "      <td>0.095527</td>\n",
       "      <td>-0.000664</td>\n",
       "      <td>1.000000</td>\n",
       "      <td>-0.129699</td>\n",
       "      <td>-0.014000</td>\n",
       "      <td>-0.024379</td>\n",
       "      <td>0.999960</td>\n",
       "      <td>-0.129529</td>\n",
       "      <td>-0.013965</td>\n",
       "      <td>-0.025198</td>\n",
       "    </tr>\n",
       "    <tr>\n",
       "      <th>day_start</th>\n",
       "      <td>0.000197</td>\n",
       "      <td>-0.006696</td>\n",
       "      <td>-0.007348</td>\n",
       "      <td>-0.003771</td>\n",
       "      <td>-0.129699</td>\n",
       "      <td>1.000000</td>\n",
       "      <td>-0.002646</td>\n",
       "      <td>-0.001968</td>\n",
       "      <td>-0.129522</td>\n",
       "      <td>0.998691</td>\n",
       "      <td>-0.002407</td>\n",
       "      <td>-0.002288</td>\n",
       "    </tr>\n",
       "    <tr>\n",
       "      <th>dayOfWeek_start</th>\n",
       "      <td>0.007379</td>\n",
       "      <td>0.005404</td>\n",
       "      <td>0.003785</td>\n",
       "      <td>0.081209</td>\n",
       "      <td>-0.014000</td>\n",
       "      <td>-0.002646</td>\n",
       "      <td>1.000000</td>\n",
       "      <td>0.005974</td>\n",
       "      <td>-0.013966</td>\n",
       "      <td>-0.002789</td>\n",
       "      <td>0.996470</td>\n",
       "      <td>0.011783</td>\n",
       "    </tr>\n",
       "    <tr>\n",
       "      <th>hour_start</th>\n",
       "      <td>0.000514</td>\n",
       "      <td>-0.016105</td>\n",
       "      <td>0.028354</td>\n",
       "      <td>0.098961</td>\n",
       "      <td>-0.024379</td>\n",
       "      <td>-0.001968</td>\n",
       "      <td>0.005974</td>\n",
       "      <td>1.000000</td>\n",
       "      <td>-0.024231</td>\n",
       "      <td>-0.002202</td>\n",
       "      <td>0.006938</td>\n",
       "      <td>0.950514</td>\n",
       "    </tr>\n",
       "    <tr>\n",
       "      <th>month_end</th>\n",
       "      <td>0.003143</td>\n",
       "      <td>0.097545</td>\n",
       "      <td>0.095517</td>\n",
       "      <td>-0.000641</td>\n",
       "      <td>0.999960</td>\n",
       "      <td>-0.129522</td>\n",
       "      <td>-0.013966</td>\n",
       "      <td>-0.024231</td>\n",
       "      <td>1.000000</td>\n",
       "      <td>-0.129714</td>\n",
       "      <td>-0.013925</td>\n",
       "      <td>-0.025459</td>\n",
       "    </tr>\n",
       "    <tr>\n",
       "      <th>day_end</th>\n",
       "      <td>-0.002254</td>\n",
       "      <td>-0.006609</td>\n",
       "      <td>-0.007348</td>\n",
       "      <td>-0.003846</td>\n",
       "      <td>-0.129529</td>\n",
       "      <td>0.998691</td>\n",
       "      <td>-0.002789</td>\n",
       "      <td>-0.002202</td>\n",
       "      <td>-0.129714</td>\n",
       "      <td>1.000000</td>\n",
       "      <td>-0.002555</td>\n",
       "      <td>-0.001926</td>\n",
       "    </tr>\n",
       "    <tr>\n",
       "      <th>dayOfWeek_end</th>\n",
       "      <td>0.006460</td>\n",
       "      <td>0.005566</td>\n",
       "      <td>0.003901</td>\n",
       "      <td>0.081202</td>\n",
       "      <td>-0.013965</td>\n",
       "      <td>-0.002407</td>\n",
       "      <td>0.996470</td>\n",
       "      <td>0.006938</td>\n",
       "      <td>-0.013925</td>\n",
       "      <td>-0.002555</td>\n",
       "      <td>1.000000</td>\n",
       "      <td>0.010471</td>\n",
       "    </tr>\n",
       "    <tr>\n",
       "      <th>hour_end</th>\n",
       "      <td>-0.004913</td>\n",
       "      <td>-0.016198</td>\n",
       "      <td>0.027000</td>\n",
       "      <td>0.090966</td>\n",
       "      <td>-0.025198</td>\n",
       "      <td>-0.002288</td>\n",
       "      <td>0.011783</td>\n",
       "      <td>0.950514</td>\n",
       "      <td>-0.025459</td>\n",
       "      <td>-0.001926</td>\n",
       "      <td>0.010471</td>\n",
       "      <td>1.000000</td>\n",
       "    </tr>\n",
       "  </tbody>\n",
       "</table>\n",
       "</div>"
      ],
      "text/plain": [
       "                 duration  strt_statn  end_statn  birth_date  month_start  \\\n",
       "duration         1.000000   -0.004821  -0.005850   -0.002784    -0.000395   \n",
       "strt_statn      -0.004821    1.000000   0.338162    0.036458     0.097581   \n",
       "end_statn       -0.005850    0.338162   1.000000    0.030072     0.095527   \n",
       "birth_date      -0.002784    0.036458   0.030072    1.000000    -0.000664   \n",
       "month_start     -0.000395    0.097581   0.095527   -0.000664     1.000000   \n",
       "day_start        0.000197   -0.006696  -0.007348   -0.003771    -0.129699   \n",
       "dayOfWeek_start  0.007379    0.005404   0.003785    0.081209    -0.014000   \n",
       "hour_start       0.000514   -0.016105   0.028354    0.098961    -0.024379   \n",
       "month_end        0.003143    0.097545   0.095517   -0.000641     0.999960   \n",
       "day_end         -0.002254   -0.006609  -0.007348   -0.003846    -0.129529   \n",
       "dayOfWeek_end    0.006460    0.005566   0.003901    0.081202    -0.013965   \n",
       "hour_end        -0.004913   -0.016198   0.027000    0.090966    -0.025198   \n",
       "\n",
       "                 day_start  dayOfWeek_start  hour_start  month_end   day_end  \\\n",
       "duration          0.000197         0.007379    0.000514   0.003143 -0.002254   \n",
       "strt_statn       -0.006696         0.005404   -0.016105   0.097545 -0.006609   \n",
       "end_statn        -0.007348         0.003785    0.028354   0.095517 -0.007348   \n",
       "birth_date       -0.003771         0.081209    0.098961  -0.000641 -0.003846   \n",
       "month_start      -0.129699        -0.014000   -0.024379   0.999960 -0.129529   \n",
       "day_start         1.000000        -0.002646   -0.001968  -0.129522  0.998691   \n",
       "dayOfWeek_start  -0.002646         1.000000    0.005974  -0.013966 -0.002789   \n",
       "hour_start       -0.001968         0.005974    1.000000  -0.024231 -0.002202   \n",
       "month_end        -0.129522        -0.013966   -0.024231   1.000000 -0.129714   \n",
       "day_end           0.998691        -0.002789   -0.002202  -0.129714  1.000000   \n",
       "dayOfWeek_end    -0.002407         0.996470    0.006938  -0.013925 -0.002555   \n",
       "hour_end         -0.002288         0.011783    0.950514  -0.025459 -0.001926   \n",
       "\n",
       "                 dayOfWeek_end  hour_end  \n",
       "duration              0.006460 -0.004913  \n",
       "strt_statn            0.005566 -0.016198  \n",
       "end_statn             0.003901  0.027000  \n",
       "birth_date            0.081202  0.090966  \n",
       "month_start          -0.013965 -0.025198  \n",
       "day_start            -0.002407 -0.002288  \n",
       "dayOfWeek_start       0.996470  0.011783  \n",
       "hour_start            0.006938  0.950514  \n",
       "month_end            -0.013925 -0.025459  \n",
       "day_end              -0.002555 -0.001926  \n",
       "dayOfWeek_end         1.000000  0.010471  \n",
       "hour_end              0.010471  1.000000  "
      ]
     },
     "execution_count": 32,
     "metadata": {},
     "output_type": "execute_result"
    }
   ],
   "source": [
    "df_trips.corr()"
   ]
  },
  {
   "cell_type": "markdown",
   "metadata": {},
   "source": [
    "### Exploring station data"
   ]
  },
  {
   "cell_type": "code",
   "execution_count": 33,
   "metadata": {},
   "outputs": [
    {
     "data": {
      "text/html": [
       "<div>\n",
       "<style scoped>\n",
       "    .dataframe tbody tr th:only-of-type {\n",
       "        vertical-align: middle;\n",
       "    }\n",
       "\n",
       "    .dataframe tbody tr th {\n",
       "        vertical-align: top;\n",
       "    }\n",
       "\n",
       "    .dataframe thead th {\n",
       "        text-align: right;\n",
       "    }\n",
       "</style>\n",
       "<table border=\"1\" class=\"dataframe\">\n",
       "  <thead>\n",
       "    <tr style=\"text-align: right;\">\n",
       "      <th></th>\n",
       "      <th>id</th>\n",
       "      <th>terminal</th>\n",
       "      <th>station</th>\n",
       "      <th>municipal</th>\n",
       "      <th>lat</th>\n",
       "      <th>lng</th>\n",
       "      <th>status</th>\n",
       "    </tr>\n",
       "  </thead>\n",
       "  <tbody>\n",
       "    <tr>\n",
       "      <th>131</th>\n",
       "      <td>135</td>\n",
       "      <td>M32026</td>\n",
       "      <td>359 Broadway - Broadway at Fayette Street</td>\n",
       "      <td>Cambridge</td>\n",
       "      <td>42.370803</td>\n",
       "      <td>-71.104412</td>\n",
       "      <td>Existing</td>\n",
       "    </tr>\n",
       "    <tr>\n",
       "      <th>19</th>\n",
       "      <td>22</td>\n",
       "      <td>A32010</td>\n",
       "      <td>South Station - 700 Atlantic Ave.</td>\n",
       "      <td>Boston</td>\n",
       "      <td>42.352175</td>\n",
       "      <td>-71.055547</td>\n",
       "      <td>Existing</td>\n",
       "    </tr>\n",
       "    <tr>\n",
       "      <th>81</th>\n",
       "      <td>85</td>\n",
       "      <td>C32012</td>\n",
       "      <td>Andrew Station - Dorchester Ave at Humboldt Pl</td>\n",
       "      <td>Boston</td>\n",
       "      <td>42.330825</td>\n",
       "      <td>-71.057007</td>\n",
       "      <td>Removed</td>\n",
       "    </tr>\n",
       "    <tr>\n",
       "      <th>96</th>\n",
       "      <td>100</td>\n",
       "      <td>B32017</td>\n",
       "      <td>Dudley Square</td>\n",
       "      <td>Boston</td>\n",
       "      <td>42.328654</td>\n",
       "      <td>-71.084198</td>\n",
       "      <td>Existing</td>\n",
       "    </tr>\n",
       "    <tr>\n",
       "      <th>56</th>\n",
       "      <td>60</td>\n",
       "      <td>D32016</td>\n",
       "      <td>Charles Circle - Charles St. at Cambridge St.</td>\n",
       "      <td>Boston</td>\n",
       "      <td>42.360877</td>\n",
       "      <td>-71.071310</td>\n",
       "      <td>Removed</td>\n",
       "    </tr>\n",
       "    <tr>\n",
       "      <th>12</th>\n",
       "      <td>15</td>\n",
       "      <td>A32005</td>\n",
       "      <td>Harvard Real Estate - Brighton Mills - 370 Wes...</td>\n",
       "      <td>Boston</td>\n",
       "      <td>42.361667</td>\n",
       "      <td>-71.138020</td>\n",
       "      <td>Existing</td>\n",
       "    </tr>\n",
       "    <tr>\n",
       "      <th>98</th>\n",
       "      <td>102</td>\n",
       "      <td>C32002</td>\n",
       "      <td>Boston Medical Center -  East Concord at Harri...</td>\n",
       "      <td>Boston</td>\n",
       "      <td>42.336437</td>\n",
       "      <td>-71.073089</td>\n",
       "      <td>Existing</td>\n",
       "    </tr>\n",
       "    <tr>\n",
       "      <th>65</th>\n",
       "      <td>69</td>\n",
       "      <td>K32001</td>\n",
       "      <td>Coolidge Corner - Beacon St @ Centre St</td>\n",
       "      <td>Brookline</td>\n",
       "      <td>42.341598</td>\n",
       "      <td>-71.123338</td>\n",
       "      <td>Existing</td>\n",
       "    </tr>\n",
       "    <tr>\n",
       "      <th>66</th>\n",
       "      <td>70</td>\n",
       "      <td>M32016</td>\n",
       "      <td>Harvard Kennedy School at Bennett St / Eliot St</td>\n",
       "      <td>Cambridge</td>\n",
       "      <td>42.372244</td>\n",
       "      <td>-71.121851</td>\n",
       "      <td>Existing</td>\n",
       "    </tr>\n",
       "    <tr>\n",
       "      <th>18</th>\n",
       "      <td>21</td>\n",
       "      <td>C32007</td>\n",
       "      <td>Prudential Center / Belvidere</td>\n",
       "      <td>Boston</td>\n",
       "      <td>42.345959</td>\n",
       "      <td>-71.082578</td>\n",
       "      <td>Existing</td>\n",
       "    </tr>\n",
       "  </tbody>\n",
       "</table>\n",
       "</div>"
      ],
      "text/plain": [
       "      id terminal                                            station  \\\n",
       "131  135   M32026          359 Broadway - Broadway at Fayette Street   \n",
       "19    22   A32010                  South Station - 700 Atlantic Ave.   \n",
       "81    85   C32012     Andrew Station - Dorchester Ave at Humboldt Pl   \n",
       "96   100   B32017                                      Dudley Square   \n",
       "56    60   D32016      Charles Circle - Charles St. at Cambridge St.   \n",
       "12    15   A32005  Harvard Real Estate - Brighton Mills - 370 Wes...   \n",
       "98   102   C32002  Boston Medical Center -  East Concord at Harri...   \n",
       "65    69   K32001            Coolidge Corner - Beacon St @ Centre St   \n",
       "66    70   M32016    Harvard Kennedy School at Bennett St / Eliot St   \n",
       "18    21   C32007                      Prudential Center / Belvidere   \n",
       "\n",
       "     municipal        lat        lng    status  \n",
       "131  Cambridge  42.370803 -71.104412  Existing  \n",
       "19      Boston  42.352175 -71.055547  Existing  \n",
       "81      Boston  42.330825 -71.057007   Removed  \n",
       "96      Boston  42.328654 -71.084198  Existing  \n",
       "56      Boston  42.360877 -71.071310   Removed  \n",
       "12      Boston  42.361667 -71.138020  Existing  \n",
       "98      Boston  42.336437 -71.073089  Existing  \n",
       "65   Brookline  42.341598 -71.123338  Existing  \n",
       "66   Cambridge  42.372244 -71.121851  Existing  \n",
       "18      Boston  42.345959 -71.082578  Existing  "
      ]
     },
     "execution_count": 33,
     "metadata": {},
     "output_type": "execute_result"
    }
   ],
   "source": [
    "df_station.sample(10, random_state=42)"
   ]
  },
  {
   "cell_type": "markdown",
   "metadata": {},
   "source": [
    "terminal (name), station (name) are not useful, so can be dropped"
   ]
  },
  {
   "cell_type": "code",
   "execution_count": 34,
   "metadata": {},
   "outputs": [],
   "source": [
    "df_station = df_station.drop(columns=['terminal','station'])\n"
   ]
  },
  {
   "cell_type": "code",
   "execution_count": 35,
   "metadata": {},
   "outputs": [
    {
     "data": {
      "text/plain": [
       "(142, 5)"
      ]
     },
     "execution_count": 35,
     "metadata": {},
     "output_type": "execute_result"
    }
   ],
   "source": [
    "df_station.shape"
   ]
  },
  {
   "cell_type": "code",
   "execution_count": 36,
   "metadata": {},
   "outputs": [
    {
     "data": {
      "text/plain": [
       "array(['Boston', 'Cambridge', 'Brookline', 'Somerville'], dtype=object)"
      ]
     },
     "execution_count": 36,
     "metadata": {},
     "output_type": "execute_result"
    }
   ],
   "source": [
    "df_station['municipal'].unique()"
   ]
  },
  {
   "cell_type": "code",
   "execution_count": 37,
   "metadata": {},
   "outputs": [
    {
     "name": "stderr",
     "output_type": "stream",
     "text": [
      "Pandas Apply: 100%|██████████| 142/142 [00:00<?, ?it/s]\n"
     ]
    }
   ],
   "source": [
    "df_station['color'] = df_station['status'].swifter.apply(lambda x: 'Black' if x == 'Existing' else 'Grey')"
   ]
  },
  {
   "cell_type": "code",
   "execution_count": 38,
   "metadata": {},
   "outputs": [
    {
     "data": {
      "text/plain": [
       "<AxesSubplot:xlabel='lng', ylabel='lat'>"
      ]
     },
     "execution_count": 38,
     "metadata": {},
     "output_type": "execute_result"
    },
    {
     "data": {
      "image/png": "[encoded data removed]",
      "text/plain": [
       "<Figure size 864x648 with 1 Axes>"
      ]
     },
     "metadata": {
      "needs_background": "light"
     },
     "output_type": "display_data"
    }
   ],
   "source": [
    "fig, ax = plt.subplots(figsize=(12,9))\n",
    "df_station.plot(x=\"lng\", y=\"lat\", kind=\"scatter\", c=\"color\",ax=ax)"
   ]
  },
  {
   "cell_type": "code",
   "execution_count": 39,
   "metadata": {},
   "outputs": [],
   "source": [
    "df_station = df_station.drop(columns=['color'])"
   ]
  },
  {
   "cell_type": "markdown",
   "metadata": {},
   "source": [
    "### Exploring weather data"
   ]
  },
  {
   "cell_type": "code",
   "execution_count": 40,
   "metadata": {},
   "outputs": [
    {
     "data": {
      "text/plain": [
       "array(['COOP:190770'], dtype=object)"
      ]
     },
     "execution_count": 40,
     "metadata": {},
     "output_type": "execute_result"
    }
   ],
   "source": [
    "df_weather.sample(10,random_state=42)"
   ]
  },
  {
   "cell_type": "code",
   "execution_count": 41,
   "metadata": {},
   "outputs": [
    {
     "data": {
      "text/plain": [
       "array(['COOP:190770'], dtype=object)"
      ]
     },
     "execution_count": 41,
     "metadata": {},
     "output_type": "execute_result"
    }
   ],
   "source": [
    "df_weather.STATION.unique()"
   ]
  },
  {
   "cell_type": "code",
   "execution_count": 42,
   "metadata": {},
   "outputs": [
    {
     "data": {
      "text/plain": [
       "array(['T', ' ', 'g'], dtype=object)"
      ]
     },
     "execution_count": 42,
     "metadata": {},
     "output_type": "execute_result"
    }
   ],
   "source": [
    "df_weather['Measurement_Flag'].unique()"
   ]
  },
  {
   "cell_type": "code",
   "execution_count": 43,
   "metadata": {},
   "outputs": [
    {
     "data": {
      "text/plain": [
       "array([' '], dtype=object)"
      ]
     },
     "execution_count": 43,
     "metadata": {},
     "output_type": "execute_result"
    }
   ],
   "source": [
    "df_weather['Quality_Flag'].unique()"
   ]
  },
  {
   "cell_type": "markdown",
   "metadata": {},
   "source": [
    "There is only one weather station, Quality_Flag Can be drop as it is null, so only DATE, HPCP(Hourly Precipitation) are useful."
   ]
  },
  {
   "cell_type": "code",
   "execution_count": 44,
   "metadata": {},
   "outputs": [],
   "source": [
    "df_weather = df_weather[['DATE', 'HPCP','Measurement_Flag']]"
   ]
  },
  {
   "cell_type": "code",
   "execution_count": 45,
   "metadata": {},
   "outputs": [
    {
     "name": "stderr",
     "output_type": "stream",
     "text": [
      "Pandas Apply: 100%|██████████| 2654/2654 [00:00<00:00, 115369.77it/s]\n"
     ]
    }
   ],
   "source": [
    "df_weather['DATE'] = df_weather['DATE'].swifter.apply(lambda x:datetime.strptime(x,'%Y%m%d %H:%M'))"
   ]
  },
  {
   "cell_type": "code",
   "execution_count": 46,
   "metadata": {},
   "outputs": [
    {
     "data": {
      "text/plain": [
       "<AxesSubplot:xlabel='DATE'>"
      ]
     },
     "execution_count": 46,
     "metadata": {},
     "output_type": "execute_result"
    },
    {
     "data": {
      "image/png": "[encoded data removed]",
      "text/plain": [
       "<Figure size 432x288 with 1 Axes>"
      ]
     },
     "metadata": {
      "needs_background": "light"
     },
     "output_type": "display_data"
    }
   ],
   "source": [
    "df_weather.plot(x='DATE',y='HPCP')"
   ]
  },
  {
   "cell_type": "markdown",
   "metadata": {},
   "source": [
    "## Data Cleaning"
   ]
  },
  {
   "cell_type": "markdown",
   "metadata": {},
   "source": [
    "### Merging dataframes"
   ]
  },
  {
   "cell_type": "code",
   "execution_count": 47,
   "metadata": {},
   "outputs": [
    {
     "data": {
      "text/plain": [
       "1573820"
      ]
     },
     "execution_count": 47,
     "metadata": {},
     "output_type": "execute_result"
    }
   ],
   "source": [
    "df_trips_cut.shape[0]"
   ]
  },
  {
   "cell_type": "code",
   "execution_count": 48,
   "metadata": {},
   "outputs": [
    {
     "data": {
      "text/plain": [
       "1573783"
      ]
     },
     "execution_count": 48,
     "metadata": {},
     "output_type": "execute_result"
    }
   ],
   "source": [
    "df = df_trips_cut.merge(df_station, left_on= 'strt_statn',right_on='id',suffixes=('','_strt'))\n",
    "df = df.merge(df_station, left_on= 'end_statn',right_on='id',suffixes=('','_end'))\n",
    "df = df.rename(columns={'lat':'lat_strt','lng':'lng_strt'})\n",
    "df = df.drop(columns=['id','id_end'])\n",
    "df.shape[0]"
   ]
  },
  {
   "cell_type": "code",
   "execution_count": 49,
   "metadata": {},
   "outputs": [
    {
     "data": {
      "text/plain": [
       "<AxesSubplot:>"
      ]
     },
     "execution_count": 49,
     "metadata": {},
     "output_type": "execute_result"
    },
    {
     "data": {
      "image/png": "[encoded data removed]",
      "text/plain": [
       "<Figure size 864x648 with 4 Axes>"
      ]
     },
     "metadata": {
      "needs_background": "light"
     },
     "output_type": "display_data"
    }
   ],
   "source": [
    "fig, axs = plt.subplots(nrows=2, ncols=2, figsize=(12,9))\n",
    "df['lat_strt'].hist(bins=20,ax=axs[0][0])\n",
    "df['lng_strt'].hist(bins=20,ax=axs[0][1])\n",
    "df['lat_end'].hist(bins=20,ax=axs[1][0])\n",
    "df['lng_end'].hist(bins=20,ax=axs[1][1])"
   ]
  },
  {
   "cell_type": "code",
   "execution_count": 50,
   "metadata": {},
   "outputs": [
    {
     "name": "stderr",
     "output_type": "stream",
     "text": [
      "Dask Apply: 100%|██████████| 32/32 [00:03<00:00,  9.33it/s]\n",
      "Dask Apply: 100%|██████████| 32/32 [00:03<00:00,  9.49it/s]\n"
     ]
    }
   ],
   "source": [
    "def hour_rounder(t):\n",
    "    return t.replace(second=0, microsecond=0, minute=0, hour=t.hour)\n",
    "df['start_date_h'] = df['start_date'].swifter.apply(hour_rounder)\n",
    "df['end_date_h'] = df['end_date'].swifter.apply(hour_rounder)"
   ]
  },
  {
   "cell_type": "code",
   "execution_count": 51,
   "metadata": {},
   "outputs": [
    {
     "name": "stderr",
     "output_type": "stream",
     "text": [
      "Pandas Apply: 100%|██████████| 2654/2654 [00:00<00:00, 63175.69it/s]\n"
     ]
    }
   ],
   "source": [
    "df_weather['rain'] = df_weather.swifter.apply(lambda x: bool(x.HPCP > 0 or x.Measurement_Flag==\"T\"),axis=1)"
   ]
  },
  {
   "cell_type": "code",
   "execution_count": 52,
   "metadata": {},
   "outputs": [],
   "source": [
    "df_weather_rain = df_weather[['DATE','rain']]"
   ]
  },
  {
   "cell_type": "code",
   "execution_count": 53,
   "metadata": {},
   "outputs": [],
   "source": [
    "df = df.merge(df_weather_rain, left_on= 'start_date_h',right_on='DATE',suffixes=('','_start_date'),how='outer')\n",
    "df = df.merge(df_weather_rain, left_on= 'end_date_h',right_on='DATE',suffixes=('','_end_date'),how='outer')\n",
    "df = df.drop(columns=['DATE','DATE_end_date'])"
   ]
  },
  {
   "cell_type": "code",
   "execution_count": 54,
   "metadata": {},
   "outputs": [
    {
     "name": "stderr",
     "output_type": "stream",
     "text": [
      "Dask Apply: 100%|██████████| 32/32 [00:04<00:00,  7.04it/s]\n"
     ]
    }
   ],
   "source": [
    "df['rain'] = df[['rain','rain_end_date']].swifter.apply(lambda x: x.rain or x.rain_end_date, axis=1)\n",
    "df = df.drop(columns=['rain_end_date'])\n",
    "df.rain = df.rain.fillna(False)"
   ]
  },
  {
   "cell_type": "code",
   "execution_count": 55,
   "metadata": {},
   "outputs": [],
   "source": [
    "df_weather = df_weather.set_index('DATE')"
   ]
  },
  {
   "cell_type": "code",
   "execution_count": 56,
   "metadata": {},
   "outputs": [],
   "source": [
    "# df['rain_duration'] = df.swifter.apply(lambda r: df_weather.loc[r.start_date:r.end_date].rain.any(), axis=1)\n",
    "# df['PP'] = df.swifter.swifter.apply(lambda r: df_weather.loc[r.start_date:r.end_date].HPCP.sum(), axis=1)"
   ]
  },
  {
   "cell_type": "code",
   "execution_count": 57,
   "metadata": {},
   "outputs": [],
   "source": [
    "df = df.dropna(subset=['lat_strt','lng_strt','lat_end','lng_end'])"
   ]
  },
  {
   "cell_type": "code",
   "execution_count": 58,
   "metadata": {},
   "outputs": [
    {
     "name": "stderr",
     "output_type": "stream",
     "text": [
      "Dask Apply: 100%|██████████| 32/32 [00:55<00:00,  1.72s/it]\n"
     ]
    }
   ],
   "source": [
    "def get_distance(x):\n",
    "    return distance((x['lat_strt'],x['lng_strt']),(x['lat_end'],x['lng_end'])).km\n",
    "df['statn_dist'] = df[['lat_strt','lng_strt','lat_end','lng_end']].swifter.apply(get_distance, axis=1)"
   ]
  },
  {
   "cell_type": "code",
   "execution_count": 59,
   "metadata": {},
   "outputs": [],
   "source": [
    "df.to_csv('data/data.csv',index=False)"
   ]
  },
  {
   "cell_type": "markdown",
   "metadata": {},
   "source": [
    "## Modelling"
   ]
  },
  {
   "cell_type": "code",
   "execution_count": 3,
   "metadata": {},
   "outputs": [],
   "source": [
    "df= pd.read_csv('data/data.csv')"
   ]
  },
  {
   "cell_type": "code",
   "execution_count": 4,
   "metadata": {},
   "outputs": [
    {
     "data": {
      "text/plain": [
       "Index(['seq_id', 'hubway_id', 'duration', 'start_date', 'strt_statn',\n",
       "       'end_date', 'end_statn', 'bike_nr', 'subsc_type', 'zip_code',\n",
       "       'birth_date', 'gender', 'month_start', 'day_start', 'dayOfWeek_start',\n",
       "       'hour_start', 'month_end', 'day_end', 'dayOfWeek_end', 'hour_end',\n",
       "       'municipal', 'lat_strt', 'lng_strt', 'status', 'municipal_end',\n",
       "       'lat_end', 'lng_end', 'status_end', 'start_date_h', 'end_date_h',\n",
       "       'rain', 'statn_dist'],\n",
       "      dtype='object')"
      ]
     },
     "execution_count": 4,
     "metadata": {},
     "output_type": "execute_result"
    }
   ],
   "source": [
    "df.columns"
   ]
  },
  {
   "cell_type": "code",
   "execution_count": 5,
   "metadata": {},
   "outputs": [],
   "source": [
    "df_ = df.drop(columns=['start_date','end_date','start_date_h', 'end_date_h'])"
   ]
  },
  {
   "cell_type": "code",
   "execution_count": 6,
   "metadata": {},
   "outputs": [],
   "source": [
    "cat_features = ['municipal', 'municipal_end',\n",
    "'strt_statn', 'end_statn','bike_nr',\n",
    "'subsc_type', 'rain','status','status_end']\n",
    "num_features = ['month_start', 'day_start', 'dayOfWeek_start', 'hour_start',\n",
    "'month_end', 'day_end', 'dayOfWeek_end', 'hour_end',\n",
    "'lat_strt', 'lng_strt', 'lat_end', 'lng_end',\n",
    "'statn_dist']\n",
    "mem_features = ['zip_code', 'birth_date', 'gender']"
   ]
  },
  {
   "cell_type": "code",
   "execution_count": 7,
   "metadata": {},
   "outputs": [],
   "source": [
    "df_ = df_.dropna(subset=cat_features)\n",
    "df_ = df_.dropna(subset=num_features)"
   ]
  },
  {
   "cell_type": "code",
   "execution_count": 8,
   "metadata": {},
   "outputs": [],
   "source": [
    "df_s = df_.drop(columns=['zip_code', 'birth_date', 'gender','bike_nr'])"
   ]
  },
  {
   "cell_type": "code",
   "execution_count": 9,
   "metadata": {},
   "outputs": [],
   "source": [
    "c = ['rain','status','status_end','municipal', 'municipal_end','subsc_type','strt_statn', 'end_statn']\n",
    "df_s = pd.get_dummies(df_s, columns=c, prefix=c)"
   ]
  },
  {
   "cell_type": "code",
   "execution_count": 10,
   "metadata": {},
   "outputs": [
    {
     "name": "stdout",
     "output_type": "stream",
     "text": [
      "Mean Absolute Error: 727.4466014349154\n",
      "Mean Squared Error: 1526935.3566324092\n",
      "Root Mean Squared Error: 1235.6922580612088\n"
     ]
    }
   ],
   "source": [
    "X = df_[['month_start', 'day_start', 'dayOfWeek_start', 'hour_start', 'month_end', 'day_end', 'dayOfWeek_end', 'hour_end',\n",
    "        'lat_strt', 'lng_strt', 'lat_end', 'lng_end', 'statn_dist', 'rain']]\n",
    "y = df_['duration']\n",
    "X_train, X_test, y_train, y_test = train_test_split(X, y, test_size=0.2, random_state=0)\n",
    "reg = LinearRegression().fit(X_train, y_train)\n",
    "y_pred = reg.predict(X_test)\n",
    "print('Mean Absolute Error:', metrics.mean_absolute_error(y_test, y_pred))\n",
    "print('Mean Squared Error:', metrics.mean_squared_error(y_test, y_pred))\n",
    "print('Root Mean Squared Error:', np.sqrt(metrics.mean_squared_error(y_test, y_pred)))"
   ]
  },
  {
   "cell_type": "code",
   "execution_count": null,
   "metadata": {},
   "outputs": [
    {
     "name": "stdout",
     "output_type": "stream",
     "text": [
      "0.7116715729102985\n",
      "Mean Absolute Error: 731.3239287269639\n",
      "Mean Squared Error: 1498329.4501967977\n",
      "Root Mean Squared Error: 1224.0626822989082\n"
     ]
    }
   ],
   "source": [
    "X = df_s.drop(columns= 'duration')\n",
    "y = df_s['duration']\n",
    "X_train, X_test, y_train, y_test = train_test_split(X, y, test_size=0.2, random_state=0)\n",
    "reg = LinearRegression().fit(X_train, y_train)\n",
    "print(reg.score(X_test,y_test))\n",
    "y_pred = reg.predict(X_test)\n",
    "print('Mean Absolute Error:', metrics.mean_absolute_error(y_test, y_pred))\n",
    "print('Mean Squared Error:', metrics.mean_squared_error(y_test, y_pred))\n",
    "print('Root Mean Squared Error:', np.sqrt(metrics.mean_squared_error(y_test, y_pred)))\n",
    "print('Mean Absolute Percentage Error:', metrics.mean_absolute_percentage_error(y_test, y_pred))"
   ]
  },
  {
   "cell_type": "code",
   "execution_count": 73,
   "metadata": {},
   "outputs": [
    {
     "data": {
      "text/plain": [
       "RandomForestRegressor(n_jobs=-1, random_state=42)"
      ]
     },
     "execution_count": 73,
     "metadata": {},
     "output_type": "execute_result"
    }
   ],
   "source": [
    "rf = RandomForestRegressor(random_state=42,n_jobs=-1)\n",
    "rf.fit(X_train, y_train)"
   ]
  },
  {
   "cell_type": "code",
   "execution_count": 74,
   "metadata": {},
   "outputs": [
    {
     "name": "stdout",
     "output_type": "stream",
     "text": [
      "Mean Absolute Error: 270.60128921643405\n",
      "Mean Squared Error: 1022007.3673421348\n",
      "Root Mean Squared Error: 1010.9438002886881\n"
     ]
    }
   ],
   "source": [
    "y_pred = rf.predict(X_test)\n",
    "print('Mean Absolute Error:', metrics.mean_absolute_error(y_test, y_pred))\n",
    "print('Mean Squared Error:', metrics.mean_squared_error(y_test, y_pred))\n",
    "print('Root Mean Squared Error:', np.sqrt(metrics.mean_squared_error(y_test, y_pred)))\n",
    "print('Mean Absolute Percentage Error:', metrics.mean_absolute_percentage_error(y_test, y_pred))"
   ]
  }
 ],
 "metadata": {
  "interpreter": {
   "hash": "66e4a4b7c121db4243309d1eb7f3fba70ad006b305f754897095e92fca8ac47b"
  },
  "kernelspec": {
   "display_name": "Python 3.9.7 64-bit ('base': conda)",
   "language": "python",
   "name": "python3"
  },
  "language_info": {
   "codemirror_mode": {
    "name": "ipython",
    "version": 3
   },
   "file_extension": ".py",
   "mimetype": "text/x-python",
   "name": "python",
   "nbconvert_exporter": "python",
   "pygments_lexer": "ipython3",
   "version": "3.8.12"
  },
  "orig_nbformat": 4
 },
 "nbformat": 4,
 "nbformat_minor": 2
}
